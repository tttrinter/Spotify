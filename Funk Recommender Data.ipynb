{
 "cells": [
  {
   "cell_type": "markdown",
   "id": "c804699f-edec-4cf6-a950-0d47e863b019",
   "metadata": {},
   "source": [
    "# Spotify Funk Recommender\n",
    "Looking for new songs that I would like. \n",
    "\n",
    "* Gather Spotify funky playlist track features\n",
    "* Create a collaborative filter to compare to my own Funky Songs playlist\n",
    "* Recommend songs from the other lists that I might like!\n",
    "\n",
    "## Imports"
   ]
  },
  {
   "cell_type": "code",
   "execution_count": 1,
   "id": "92cf6faa-0b48-4dd3-8916-c6c350964de3",
   "metadata": {},
   "outputs": [],
   "source": [
    "import spotipy\n",
    "from spotipy.oauth2 import SpotifyClientCredentials\n",
    "import pandas as pd\n",
    "import numpy as np\n",
    "\n",
    "# Spotify Credentials\n",
    "import spot_creds\n",
    "\n",
    "# Graphing\n",
    "import matplotlib.pyplot as plt\n",
    "\n",
    "# Scikit-Learn\n",
    "from sklearn.feature_extraction.text import TfidfVectorizer\n",
    "\n",
    "clid = spot_creds.client_id\n",
    "secret = spot_creds.secret\n",
    "\n",
    "#Authentication - without user\n",
    "client_credentials_manager = SpotifyClientCredentials(client_id=clid, client_secret=secret)\n",
    "sp = spotipy.Spotify(client_credentials_manager = client_credentials_manager)"
   ]
  },
  {
   "cell_type": "markdown",
   "id": "8f1afeef-fa88-427e-a308-45fbf5606973",
   "metadata": {},
   "source": [
    "## Gather Data\n",
    "First, find a number of Spotify funk music playlists.\n",
    "\n",
    "* Old School Funk: https://open.spotify.com/playlist/37i9dQZF1EIfqkfSDVB2GV\n",
    "* All Funked Up: https://open.spotify.com/playlist/37i9dQZF1DX4WgZiuR77Ef\n",
    "* Funky Jams: https://open.spotify.com/playlist/37i9dQZF1DX6drTZKzZwSo\n",
    "* Crisp: https://open.spotify.com/playlist/37i9dQZF1DXdb5FEvfgsH9\n",
    "* Instrumental Funk: https://open.spotify.com/playlist/37i9dQZF1DX8f5qTGj8FYl\n",
    "* Future Funk: https://open.spotify.com/playlist/37i9dQZF1DXbjGYBfEmjR5"
   ]
  },
  {
   "cell_type": "code",
   "execution_count": 2,
   "id": "3b28247b-2010-4e9e-81d2-d7f91b21d156",
   "metadata": {},
   "outputs": [],
   "source": [
    "playlist_links = {'Old School Funk':'https://open.spotify.com/playlist/37i9dQZF1EIfqkfSDVB2GV',\n",
    "                 'All Funked Up':'https://open.spotify.com/playlist/37i9dQZF1DX4WgZiuR77Ef',\n",
    "                 'Funky Jams':'https://open.spotify.com/playlist/37i9dQZF1DX6drTZKzZwSo',\n",
    "                 'Crisp':'https://open.spotify.com/playlist/37i9dQZF1DXdb5FEvfgsH9',\n",
    "                 'Instrumental Funk':'https://open.spotify.com/playlist/37i9dQZF1DX8f5qTGj8FYl',\n",
    "                 'Future Funk': 'https://open.spotify.com/playlist/37i9dQZF1DXbjGYBfEmjR5',\n",
    "                 'Toms Funky Playlist': \"https://open.spotify.com/playlist/7eWWLoTfmLUcD0viBP6Hr0?si=e8b0760749404749\"}"
   ]
  },
  {
   "cell_type": "code",
   "execution_count": 3,
   "id": "9cefbf91-4f30-4629-8c39-2016d47dae44",
   "metadata": {},
   "outputs": [],
   "source": [
    "def get_playlist_URI(playlist_link):\n",
    "    \"\"\"Extracts URI from playlist link\"\"\"\n",
    "    playlist_URI = playlist_link.split(\"/\")[-1].split(\"?\")[0]\n",
    "    return playlist_URI\n",
    "\n",
    "\n",
    "def get_tracks(playlist_link):\n",
    "    \"\"\"Get the list of tracks from a Spotify playlist.\n",
    "\n",
    "    Args:\n",
    "        playlist_link: string, web-link\n",
    "    Returns:\n",
    "        list of track uris\n",
    "    \"\"\"\n",
    "    playlist_URI = get_playlist_URI(playlist_Link)\n",
    "    track_uris = [x[\"track\"][\"uri\"] for x in sp.playlist_tracks(playlist_URI)[\"items\"]]\n",
    "    return track_uris\n",
    "\n",
    "def extract_audio_feat(track_uri, track_dict):\n",
    "    \"\"\"Extracts audio features for each track_uri and adds them to the track_dict.\n",
    "\n",
    "    Args:\n",
    "        track_uri: Spotify track URI\n",
    "        track_dict: dictionary of track metadata\n",
    "    Returns:\n",
    "        track_dict: updated with audio features\n",
    "    \"\"\"\n",
    "\n",
    "        # Audio Features\n",
    "    audio_feat_list = ['acousticness',\n",
    "                       'danceability',\n",
    "                       'energy',\n",
    "                       'instrumentalness',\n",
    "                       'key',\n",
    "                       'liveness',\n",
    "                       'loudness',\n",
    "                       'mode',\n",
    "                       'speechiness',\n",
    "                       'tempo',\n",
    "                       'time_signature',\n",
    "                       'valence']\n",
    "                       \n",
    "    audio_feat = sp.audio_features(track_uri)[0]\n",
    "    \n",
    "    for feat in audio_feat_list:\n",
    "        track_dict[feat] = audio_feat[feat]\n",
    "        \n",
    "    return track_dict\n",
    "\n",
    "def gather_track_features(playlist_link):\n",
    "    \"\"\"\n",
    "    Calls the Spotify API to collect track listings for each playlist. \n",
    "    Pulls meta data and track data for each track and returns a dataframe with all of the features\n",
    "    \n",
    "    Input: playlist_link - URI for a Spotify playlist\n",
    "    Returns: pandas dataframe with tracklisting and audio features\n",
    "    \"\"\"\n",
    "    \n",
    "    # initialize dataframe for results\n",
    "    tracks_df = pd.DataFrame() \n",
    "    \n",
    "    playlist_URI = get_playlist_URI(playlist_link)\n",
    "    \n",
    "    # Loop over tracks to gather info\n",
    "    for track in sp.playlist_tracks(playlist_URI)[\"items\"]:\n",
    "        this_track = {}\n",
    "        #URI\n",
    "        track_uri = track[\"track\"][\"uri\"]\n",
    "        this_track['track_uri'] = track_uri\n",
    "\n",
    "        #Track name\n",
    "        this_track['track_name'] = track[\"track\"][\"name\"]\n",
    "\n",
    "        #Main Artist\n",
    "        artist_uri = track[\"track\"][\"artists\"][0][\"uri\"]\n",
    "        this_track['artist_uri'] = artist_uri\n",
    "        artist_info = sp.artist(artist_uri)\n",
    "\n",
    "        #Name, popularity, genre\n",
    "        this_track['artist_name'] = track[\"track\"][\"artists\"][0][\"name\"]\n",
    "        this_track['artist_pop'] = artist_info[\"popularity\"]\n",
    "        this_track['artist_genres'] = artist_info[\"genres\"]\n",
    "\n",
    "        #Album\n",
    "        this_track['album'] = track[\"track\"][\"album\"][\"name\"]\n",
    "\n",
    "        #Track Metadata\n",
    "        this_track['track_pop'] = track[\"track\"][\"popularity\"]\n",
    "        this_track['explicit'] = track[\"track\"]['explicit']\n",
    "\n",
    "        # Audio Features\n",
    "        try:\n",
    "            this_track = extract_audio_feat(track_uri, this_track)\n",
    "        except:\n",
    "            pass\n",
    "    \n",
    "    \n",
    "        # Convert to DataFrame\n",
    "        this_track_df = pd.json_normalize(this_track)\n",
    "    \n",
    "        tracks_df = pd.concat([tracks_df,this_track_df], ignore_index=True)\n",
    "    \n",
    "    # Make sure there are no duplicates\n",
    "    tracks_df = tracks_df.drop_duplicates('track_uri')\n",
    "    \n",
    "    return tracks_df"
   ]
  },
  {
   "cell_type": "markdown",
   "id": "e1f5c07e-da7f-4deb-97f3-105da73df35d",
   "metadata": {},
   "source": [
    "### Collect data for all playlists"
   ]
  },
  {
   "cell_type": "code",
   "execution_count": 4,
   "id": "a30cdbbc-2773-4857-b990-0ba2e4b4edf7",
   "metadata": {},
   "outputs": [],
   "source": [
    "playlist = 'Funk and Soul Classics'\n",
    "playlist = 'All Funked Up'\n",
    "\n",
    "playlist_uri = get_playlist_URI(playlist_links[playlist])\n",
    "# pl_tracks = sp.playlist_tracks(playlist_uri)[\"items\"]\n",
    "# len(pl_tracks)"
   ]
  },
  {
   "cell_type": "code",
   "execution_count": 5,
   "id": "6707278a-5dc2-4a31-87c9-bf216a786b73",
   "metadata": {},
   "outputs": [
    {
     "name": "stdout",
     "output_type": "stream",
     "text": [
      "Old School Funk: 50 tracks\n",
      "All Funked Up: 100 tracks\n",
      "Funky Jams: 60 tracks\n",
      "Crisp: 92 tracks\n",
      "Instrumental Funk: 80 tracks\n",
      "Future Funk: 100 tracks\n",
      "Toms Funky Playlist: 100 tracks\n"
     ]
    }
   ],
   "source": [
    "playlist_df = pd.DataFrame()\n",
    "for pl_name, pl_link in playlist_links.items():\n",
    "    this_pl_df = gather_track_features(pl_link)\n",
    "    this_pl_df['playlist'] = pl_name\n",
    "    print(f'{pl_name}: {len(this_pl_df)} tracks')\n",
    "    playlist_df = pd.concat([playlist_df, this_pl_df], ignore_index=True)\n",
    "    \n",
    "# Make sure there are no duplicates - saving this for later since a track was dropped from the comparison playlist\n",
    "# playlist_df = playlist_df.drop_duplicates('track_uri')\n"
   ]
  },
  {
   "cell_type": "code",
   "execution_count": 6,
   "id": "d4484df7-a43e-4c49-abc0-7c2ca8b75c53",
   "metadata": {},
   "outputs": [],
   "source": [
    "# Save to Excel for future use\n",
    "playlist_df.to_excel(\"funky_playlist_tracks.xlsx\", index=False)"
   ]
  },
  {
   "cell_type": "code",
   "execution_count": 7,
   "id": "b2b94292-3700-430f-9699-20a2a4b26be1",
   "metadata": {},
   "outputs": [
    {
     "data": {
      "text/plain": [
       "All Funked Up          100\n",
       "Future Funk            100\n",
       "Toms Funky Playlist    100\n",
       "Crisp                   92\n",
       "Instrumental Funk       80\n",
       "Funky Jams              60\n",
       "Old School Funk         50\n",
       "Name: playlist, dtype: int64"
      ]
     },
     "execution_count": 7,
     "metadata": {},
     "output_type": "execute_result"
    }
   ],
   "source": [
    "playlist_df.playlist.value_counts()"
   ]
  },
  {
   "cell_type": "code",
   "execution_count": 8,
   "id": "c99a30b5-3bdc-4b1b-a47c-75f6a47ad867",
   "metadata": {},
   "outputs": [
    {
     "data": {
      "text/plain": [
       "Tower Of Power                   15\n",
       "Here Come The Mummies            15\n",
       "Santa Fe & The Fat City Horns    14\n",
       "Orgone                           13\n",
       "Cory Wong                        13\n",
       "                                 ..\n",
       "Franc Moody                       1\n",
       "Doom Flamingo                     1\n",
       "Lehmanns Brothers                 1\n",
       "The Doggett Brothers              1\n",
       "Incognito                         1\n",
       "Name: artist_name, Length: 346, dtype: int64"
      ]
     },
     "execution_count": 8,
     "metadata": {},
     "output_type": "execute_result"
    }
   ],
   "source": [
    "playlist_df.artist_name.value_counts()"
   ]
  },
  {
   "cell_type": "code",
   "execution_count": 9,
   "id": "d6f59601-067a-401f-b96d-70e6d28276c3",
   "metadata": {},
   "outputs": [
    {
     "data": {
      "text/plain": [
       "Orgone                 12\n",
       "Lettuce                 7\n",
       "Rick James              5\n",
       "The Fearless Flyers     5\n",
       "Cory Wong               5\n",
       "                       ..\n",
       "Space 9                 1\n",
       "Neal Francis            1\n",
       "Throwback Zack          1\n",
       "Daði Freyr              1\n",
       "Flammy                  1\n",
       "Name: artist_name, Length: 335, dtype: int64"
      ]
     },
     "execution_count": 9,
     "metadata": {},
     "output_type": "execute_result"
    }
   ],
   "source": [
    "playlist_df.loc[playlist_df.playlist !='Toms Funky Playlist'].artist_name.value_counts()"
   ]
  },
  {
   "cell_type": "code",
   "execution_count": null,
   "id": "78669d73-836e-4515-bf93-b353e9de71b3",
   "metadata": {},
   "outputs": [],
   "source": []
  }
 ],
 "metadata": {
  "kernelspec": {
   "display_name": "Python 3 (ipykernel)",
   "language": "python",
   "name": "python3"
  },
  "language_info": {
   "codemirror_mode": {
    "name": "ipython",
    "version": 3
   },
   "file_extension": ".py",
   "mimetype": "text/x-python",
   "name": "python",
   "nbconvert_exporter": "python",
   "pygments_lexer": "ipython3",
   "version": "3.8.8"
  }
 },
 "nbformat": 4,
 "nbformat_minor": 5
}
