{
 "cells": [
  {
   "cell_type": "markdown",
   "id": "c804699f-edec-4cf6-a950-0d47e863b019",
   "metadata": {},
   "source": [
    "# Spotify Funk Recommender - Data Collection\n",
    "Gather features from various Spotify playlists and associated tracks and compile into a file. This data collection is intended for use in building a song recommender based on a playlist and other similar tracks.\n",
    "\n",
    "\n",
    "## Imports"
   ]
  },
  {
   "cell_type": "code",
   "execution_count": 1,
   "id": "92cf6faa-0b48-4dd3-8916-c6c350964de3",
   "metadata": {},
   "outputs": [],
   "source": [
    "import spotipy\n",
    "from spotipy.oauth2 import SpotifyClientCredentials\n",
    "import pandas as pd\n",
    "import numpy as np\n",
    "\n",
    "# Spotify Credentials\n",
    "import spot_creds\n",
    "\n",
    "# Graphing\n",
    "import matplotlib.pyplot as plt\n",
    "\n",
    "# Scikit-Learn\n",
    "from sklearn.feature_extraction.text import TfidfVectorizer\n",
    "\n",
    "clid = spot_creds.client_id\n",
    "secret = spot_creds.secret\n",
    "\n",
    "#Authentication - without user\n",
    "client_credentials_manager = SpotifyClientCredentials(client_id=clid, client_secret=secret)\n",
    "sp = spotipy.Spotify(client_credentials_manager = client_credentials_manager)"
   ]
  },
  {
   "cell_type": "markdown",
   "id": "8f1afeef-fa88-427e-a308-45fbf5606973",
   "metadata": {},
   "source": [
    "## Gather Data\n",
    "First, find a number of Spotify funk music playlists.\n",
    "\n",
    "* Old School Funk: https://open.spotify.com/playlist/37i9dQZF1EIfqkfSDVB2GV\n",
    "* All Funked Up: https://open.spotify.com/playlist/37i9dQZF1DX4WgZiuR77Ef\n",
    "* Funky Jams: https://open.spotify.com/playlist/37i9dQZF1DX6drTZKzZwSo\n",
    "* Crisp: https://open.spotify.com/playlist/37i9dQZF1DXdb5FEvfgsH9\n",
    "* Instrumental Funk: https://open.spotify.com/playlist/37i9dQZF1DX8f5qTGj8FYl\n",
    "* Future Funk: https://open.spotify.com/playlist/37i9dQZF1DXbjGYBfEmjR5\n",
    "* Nu Funk: https://open.spotify.com/playlist/37i9dQZF1DWZgauS5j6pMv\n",
    "* I Love My 10s Funk: https://open.spotify.com/playlist/37i9dQZF1DX2zVOKolQSzi"
   ]
  },
  {
   "cell_type": "code",
   "execution_count": 2,
   "id": "3b28247b-2010-4e9e-81d2-d7f91b21d156",
   "metadata": {},
   "outputs": [],
   "source": [
    "playlist_links = {'Old School Funk':'https://open.spotify.com/playlist/37i9dQZF1EIfqkfSDVB2GV',\n",
    "                 'All Funked Up':'https://open.spotify.com/playlist/37i9dQZF1DX4WgZiuR77Ef',\n",
    "                 'Funky Jams':'https://open.spotify.com/playlist/37i9dQZF1DX6drTZKzZwSo',\n",
    "                 'Crisp':'https://open.spotify.com/playlist/37i9dQZF1DXdb5FEvfgsH9',\n",
    "                 'Instrumental Funk':'https://open.spotify.com/playlist/37i9dQZF1DX8f5qTGj8FYl',\n",
    "                 'Future Funk': 'https://open.spotify.com/playlist/37i9dQZF1DXbjGYBfEmjR5',\n",
    "                 'Nu Funk': 'https://open.spotify.com/playlist/37i9dQZF1DWZgauS5j6pMv',\n",
    "                 'I Love My 10s Funk': 'https://open.spotify.com/playlist/37i9dQZF1DX2zVOKolQSzi', \n",
    "                 'Toms Funky Playlist': \"https://open.spotify.com/playlist/7eWWLoTfmLUcD0viBP6Hr0?si=e8b0760749404749\"}"
   ]
  },
  {
   "cell_type": "code",
   "execution_count": 3,
   "id": "9cefbf91-4f30-4629-8c39-2016d47dae44",
   "metadata": {},
   "outputs": [],
   "source": [
    "def get_playlist_URI(playlist_link):\n",
    "    \"\"\"Extracts URI from playlist link\"\"\"\n",
    "    playlist_URI = playlist_link.split(\"/\")[-1].split(\"?\")[0]\n",
    "    return playlist_URI\n",
    "\n",
    "\n",
    "def get_tracks(playlist_link):\n",
    "    \"\"\"Get the list of tracks from a Spotify playlist.\n",
    "\n",
    "    Args:\n",
    "        playlist_link: string, web-link\n",
    "    Returns:\n",
    "        list of track uris\n",
    "    \"\"\"\n",
    "    playlist_URI = get_playlist_URI(playlist_Link)\n",
    "    track_uris = [x[\"track\"][\"uri\"] for x in sp.playlist_tracks(playlist_URI)[\"items\"]]\n",
    "    return track_uris\n",
    "\n",
    "def extract_audio_feat(track_uri, track_dict):\n",
    "    \"\"\"Extracts audio features for each track_uri and adds them to the track_dict.\n",
    "\n",
    "    Args:\n",
    "        track_uri: Spotify track URI\n",
    "        track_dict: dictionary of track metadata\n",
    "    Returns:\n",
    "        track_dict: updated with audio features\n",
    "    \"\"\"\n",
    "\n",
    "        # Audio Features\n",
    "    audio_feat_list = ['acousticness',\n",
    "                       'danceability',\n",
    "                       'energy',\n",
    "                       'instrumentalness',\n",
    "                       'key',\n",
    "                       'liveness',\n",
    "                       'loudness',\n",
    "                       'mode',\n",
    "                       'speechiness',\n",
    "                       'tempo',\n",
    "                       'time_signature',\n",
    "                       'valence']\n",
    "                       \n",
    "    audio_feat = sp.audio_features(track_uri)[0]\n",
    "    \n",
    "    for feat in audio_feat_list:\n",
    "        track_dict[feat] = audio_feat[feat]\n",
    "        \n",
    "    return track_dict\n",
    "\n",
    "def pl_track_features(playlist_link):\n",
    "    \"\"\"\n",
    "    Calls the Spotify API to collect track listings for each playlist. \n",
    "    Pulls meta data and track data for each track and returns a dataframe with all of the features\n",
    "    \n",
    "    Input: playlist_link - URI for a Spotify playlist\n",
    "    Returns: pandas dataframe with tracklisting and audio features\n",
    "    \"\"\"\n",
    "    \n",
    "    # initialize dataframe for results\n",
    "    tracks_df = pd.DataFrame() \n",
    "    \n",
    "    playlist_URI = get_playlist_URI(playlist_link)\n",
    "    \n",
    "    # Loop over tracks to gather info\n",
    "    for track in sp.playlist_tracks(playlist_URI)[\"items\"]:\n",
    "        this_track = {}\n",
    "        #URI\n",
    "        track_uri = track[\"track\"][\"uri\"]\n",
    "        this_track['track_uri'] = track_uri\n",
    "\n",
    "        #Track name\n",
    "        this_track['track_name'] = track[\"track\"][\"name\"]\n",
    "\n",
    "        #Main Artist\n",
    "        artist_uri = track[\"track\"][\"artists\"][0][\"uri\"]\n",
    "        this_track['artist_uri'] = artist_uri\n",
    "        artist_info = sp.artist(artist_uri)\n",
    "\n",
    "        #Name, popularity, genre\n",
    "        this_track['artist_name'] = track[\"track\"][\"artists\"][0][\"name\"]\n",
    "        this_track['artist_pop'] = artist_info[\"popularity\"]\n",
    "        this_track['artist_genres'] = artist_info[\"genres\"]\n",
    "\n",
    "        #Album\n",
    "        this_track['album'] = track[\"track\"][\"album\"][\"name\"]\n",
    "\n",
    "        #Track Metadata\n",
    "        this_track['track_pop'] = track[\"track\"][\"popularity\"]\n",
    "        this_track['explicit'] = track[\"track\"]['explicit']\n",
    "\n",
    "        # Audio Features\n",
    "        try:\n",
    "            this_track = extract_audio_feat(track_uri, this_track)\n",
    "        except:\n",
    "            pass\n",
    "    \n",
    "    \n",
    "        # Convert to DataFrame\n",
    "        this_track_df = pd.json_normalize(this_track)\n",
    "    \n",
    "        tracks_df = pd.concat([tracks_df,this_track_df], ignore_index=True)\n",
    "    \n",
    "    # Make sure there are no duplicates\n",
    "    tracks_df = tracks_df.drop_duplicates('track_uri')\n",
    "    \n",
    "    return tracks_df"
   ]
  },
  {
   "cell_type": "markdown",
   "id": "e1f5c07e-da7f-4deb-97f3-105da73df35d",
   "metadata": {},
   "source": [
    "### Collect data for all playlists"
   ]
  },
  {
   "cell_type": "code",
   "execution_count": 4,
   "id": "a30cdbbc-2773-4857-b990-0ba2e4b4edf7",
   "metadata": {},
   "outputs": [],
   "source": [
    "playlist = 'Funk and Soul Classics'\n",
    "playlist = 'All Funked Up'\n",
    "\n",
    "playlist_uri = get_playlist_URI(playlist_links[playlist])\n",
    "# pl_tracks = sp.playlist_tracks(playlist_uri)[\"items\"]\n",
    "# len(pl_tracks)"
   ]
  },
  {
   "cell_type": "code",
   "execution_count": 9,
   "id": "6707278a-5dc2-4a31-87c9-bf216a786b73",
   "metadata": {},
   "outputs": [
    {
     "name": "stdout",
     "output_type": "stream",
     "text": [
      "Old School Funk: 50 tracks\n",
      "All Funked Up: 100 tracks\n",
      "Funky Jams: 60 tracks\n",
      "Crisp: 98 tracks\n",
      "Instrumental Funk: 80 tracks\n",
      "Future Funk: 100 tracks\n",
      "Nu Funk: 100 tracks\n",
      "I Love My 10s Funk: 73 tracks\n",
      "Toms Funky Playlist: 100 tracks\n"
     ]
    }
   ],
   "source": [
    "playlist_df = pd.DataFrame()\n",
    "for pl_name, pl_link in playlist_links.items():\n",
    "    this_pl_df = pl_track_features(pl_link)\n",
    "    this_pl_df['playlist'] = pl_name\n",
    "    print(f'{pl_name}: {len(this_pl_df)} tracks')\n",
    "    playlist_df = pd.concat([playlist_df, this_pl_df], ignore_index=True)\n",
    "    \n",
    "# Make sure there are no duplicates - saving this for later since a track was dropped from the comparison playlist\n",
    "# playlist_df = playlist_df.drop_duplicates('track_uri')\n"
   ]
  },
  {
   "cell_type": "code",
   "execution_count": null,
   "id": "d4484df7-a43e-4c49-abc0-7c2ca8b75c53",
   "metadata": {},
   "outputs": [],
   "source": [
    "# Save to Excel for future use\n",
    "playlist_df.to_excel(\"funky_playlist_tracks.xlsx\", index=False)"
   ]
  },
  {
   "cell_type": "code",
   "execution_count": null,
   "id": "b2b94292-3700-430f-9699-20a2a4b26be1",
   "metadata": {},
   "outputs": [],
   "source": [
    "playlist_df.playlist.value_counts()"
   ]
  },
  {
   "cell_type": "code",
   "execution_count": null,
   "id": "c99a30b5-3bdc-4b1b-a47c-75f6a47ad867",
   "metadata": {},
   "outputs": [],
   "source": [
    "playlist_df.artist_name.value_counts()"
   ]
  },
  {
   "cell_type": "code",
   "execution_count": null,
   "id": "d6f59601-067a-401f-b96d-70e6d28276c3",
   "metadata": {},
   "outputs": [],
   "source": [
    "playlist_df.loc[playlist_df.playlist !='Toms Funky Playlist'].artist_name.value_counts()"
   ]
  },
  {
   "cell_type": "markdown",
   "id": "2b9e4349-4186-4e44-8694-2478f053554d",
   "metadata": {},
   "source": [
    "## Get Sappy Makes Playlists Playlists\n",
    "Get all of Brian's playlists and then pull all of the track info."
   ]
  },
  {
   "cell_type": "code",
   "execution_count": null,
   "id": "596fdf5e-15ae-46f8-b3a9-e93cc9e1a7d9",
   "metadata": {},
   "outputs": [],
   "source": [
    "userid = '31ijsgvk3npljcg7ky4fdwwyetiy'\n",
    "playlists = sp.user_playlists(userid)\n",
    "# playlists"
   ]
  },
  {
   "cell_type": "code",
   "execution_count": null,
   "id": "ffd8ad48-fb17-4f4b-96e7-de5795b48fa3",
   "metadata": {},
   "outputs": [],
   "source": [
    "pls_found = len(sp.user_playlists(userid, offset=offset)[\"items\"])\n",
    "pls_found"
   ]
  },
  {
   "cell_type": "code",
   "execution_count": null,
   "id": "7154e1ab-90a9-44dd-9f1b-49e0afa73c9c",
   "metadata": {},
   "outputs": [],
   "source": [
    "offset = 0\n",
    "playlists = sp.user_playlists(userid, limit=50, offset=offset)[\"items\"]\n",
    "for pl in playlists:\n",
    "    this_pl = {}\n",
    "    #URI\n",
    "    this_pl['pl_id'] = pl[\"id\"]\n",
    "    this_pl['href'] = pl[\"href\"]\n",
    "    this_pl['pl_name'] = pl['name']\n",
    "    this_pl['description'] = pl['description']\n",
    "#     print(this_pl['pl_name'])\n",
    "\n",
    "    # Convert to DataFrame\n",
    "    this_pl_df = pd.json_normalize(this_pl)\n",
    "this_pl_df"
   ]
  },
  {
   "cell_type": "code",
   "execution_count": null,
   "id": "b438313a-fb4d-46d6-afc6-2ba4473818a3",
   "metadata": {},
   "outputs": [],
   "source": [
    "# Gather all of the playlist meta data\n",
    "# initialize dataframe for results\n",
    "pls_df = pd.DataFrame() \n",
    "\n",
    "# Loop over playlists to gather info\n",
    "offset = 0\n",
    "pls_found = len(sp.user_playlists(userid, offset=offset)[\"items\"])\n",
    "print(f'Playlists found: {pls_found}')\n",
    "while pls_found > 0:\n",
    "    playlists = sp.user_playlists(userid, limit=50, offset=offset)[\"items\"]\n",
    "    for pl in playlists:\n",
    "        this_pl = {}\n",
    "        #URI\n",
    "        this_pl['pl_id'] = pl[\"id\"]\n",
    "        this_pl['href'] = pl[\"href\"]\n",
    "        this_pl['pl_name'] = pl['name']\n",
    "        this_pl['description'] = pl['description']\n",
    "#         print(this_pl['pl_name'])\n",
    "\n",
    "        # Convert to DataFrame\n",
    "        this_pl_df = pd.json_normalize(this_pl)\n",
    "\n",
    "        pls_df = pd.concat([pls_df,this_pl_df], ignore_index=True)\n",
    "    offset = offset + pls_found\n",
    "    pls_found = len(sp.user_playlists(userid, offset=offset)[\"items\"])\n",
    "    print(f'Next list count: {pls_found}')\n",
    "\n",
    "# Make sure there are no duplicates\n",
    "# pls_df = pls_df.drop_duplicates()\n",
    "pls_df"
   ]
  },
  {
   "cell_type": "markdown",
   "id": "b5694ccd-902f-49ab-aca8-d15c2855a79b",
   "metadata": {},
   "source": [
    "## Collect Data for All Playlists"
   ]
  },
  {
   "cell_type": "code",
   "execution_count": 7,
   "id": "760e02bf-3fe7-4ee1-bedd-58c0fc68d6f0",
   "metadata": {},
   "outputs": [
    {
     "ename": "NameError",
     "evalue": "name 'pls_df' is not defined",
     "output_type": "error",
     "traceback": [
      "\u001b[0;31m---------------------------------------------------------------------------\u001b[0m",
      "\u001b[0;31mNameError\u001b[0m                                 Traceback (most recent call last)",
      "Cell \u001b[0;32mIn [7], line 3\u001b[0m\n\u001b[1;32m      1\u001b[0m playlist_df \u001b[38;5;241m=\u001b[39m pd\u001b[38;5;241m.\u001b[39mDataFrame()\n\u001b[0;32m----> 3\u001b[0m \u001b[38;5;28;01mfor\u001b[39;00m i \u001b[38;5;129;01min\u001b[39;00m \u001b[38;5;28mrange\u001b[39m(\u001b[38;5;28mlen\u001b[39m(\u001b[43mpls_df\u001b[49m)):\n\u001b[1;32m      4\u001b[0m     pl_link \u001b[38;5;241m=\u001b[39m pls_df\u001b[38;5;241m.\u001b[39miloc[i][\u001b[38;5;124m'\u001b[39m\u001b[38;5;124mhref\u001b[39m\u001b[38;5;124m'\u001b[39m]\n\u001b[1;32m      5\u001b[0m     pl_name \u001b[38;5;241m=\u001b[39m pls_df\u001b[38;5;241m.\u001b[39miloc[i][\u001b[38;5;124m'\u001b[39m\u001b[38;5;124mpl_name\u001b[39m\u001b[38;5;124m'\u001b[39m]\n",
      "\u001b[0;31mNameError\u001b[0m: name 'pls_df' is not defined"
     ]
    }
   ],
   "source": [
    "playlist_df = pd.DataFrame()\n",
    "\n",
    "for i in range(len(pls_df)):\n",
    "    pl_link = pls_df.iloc[i]['href']\n",
    "    pl_name = pls_df.iloc[i]['pl_name']\n",
    "    print(f'Name: {pl_name}: {href}')\n",
    "               \n",
    "    this_pl_df = pl_track_features(pl_link)\n",
    "    this_pl_df['playlist'] = pl_name\n",
    "    print(f'{pl_name}: {len(this_pl_df)} tracks')\n",
    "    playlist_df = pd.concat([playlist_df, this_pl_df], ignore_index=True)"
   ]
  },
  {
   "cell_type": "code",
   "execution_count": null,
   "id": "b759a7a9-20f4-4193-9b7e-240253deff73",
   "metadata": {},
   "outputs": [],
   "source": [
    "# Save to Excel for future use\n",
    "playlist_df.to_excel(\"sappy_playlist_tracks.xlsx\", index=False)"
   ]
  },
  {
   "cell_type": "code",
   "execution_count": null,
   "id": "47b03f50-c4a8-459c-9bc5-74526487419d",
   "metadata": {},
   "outputs": [],
   "source": [
    "# Can we get all tracks from an album as if it were a playlist???\n"
   ]
  }
 ],
 "metadata": {
  "kernelspec": {
   "display_name": "Python 3 (ipykernel)",
   "language": "python",
   "name": "python3"
  },
  "language_info": {
   "codemirror_mode": {
    "name": "ipython",
    "version": 3
   },
   "file_extension": ".py",
   "mimetype": "text/x-python",
   "name": "python",
   "nbconvert_exporter": "python",
   "pygments_lexer": "ipython3",
   "version": "3.8.8"
  }
 },
 "nbformat": 4,
 "nbformat_minor": 5
}
