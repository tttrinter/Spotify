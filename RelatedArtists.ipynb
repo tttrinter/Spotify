{
 "cells": [
  {
   "cell_type": "markdown",
   "id": "2f2fa542-bbbe-44ef-8174-b81f30d0f72f",
   "metadata": {},
   "source": [
    "# Related Artist Tracks\n",
    "Now that I can pull all tracks for an artist and I have a simple recommender system that can find similar tracks to the ones I've already liked, I want to crawl through the similar artists to mine and compare their tracks to the ones I've liked to find new, similar tracks to recommend.\n",
    "\n",
    "Starting with my \"Tom's Funky Playlist\" I'll get a unique list of artists."
   ]
  },
  {
   "cell_type": "code",
   "execution_count": 1,
   "id": "7dd9c86e-543d-452d-9488-00de3d634e94",
   "metadata": {},
   "outputs": [],
   "source": [
    "from spoti_pandas import sp_functions as sppd\n",
    "import spotipy\n",
    "from spotipy.oauth2 import SpotifyClientCredentials\n",
    "import pandas as pd\n",
    "import time\n",
    "\n",
    "# # Spotify Credentials\n",
    "# import spot_creds\n",
    "\n",
    "# clid = spot_creds.client_id\n",
    "# secret = spot_creds.secret\n",
    "\n",
    "# #Authentication - without user\n",
    "# client_credentials_manager = SpotifyClientCredentials(client_id=clid, client_secret=secret)\n",
    "# sp = spotipy.Spotify(client_credentials_manager = client_credentials_manager)"
   ]
  },
  {
   "cell_type": "code",
   "execution_count": 2,
   "id": "84a56961-d403-47df-bf8b-36dcbe6a1cfe",
   "metadata": {},
   "outputs": [
    {
     "data": {
      "text/html": [
       "<div>\n",
       "<style scoped>\n",
       "    .dataframe tbody tr th:only-of-type {\n",
       "        vertical-align: middle;\n",
       "    }\n",
       "\n",
       "    .dataframe tbody tr th {\n",
       "        vertical-align: top;\n",
       "    }\n",
       "\n",
       "    .dataframe thead th {\n",
       "        text-align: right;\n",
       "    }\n",
       "</style>\n",
       "<table border=\"1\" class=\"dataframe\">\n",
       "  <thead>\n",
       "    <tr style=\"text-align: right;\">\n",
       "      <th></th>\n",
       "      <th>track_uri</th>\n",
       "      <th>track_name</th>\n",
       "      <th>artist_uri</th>\n",
       "      <th>artist_name</th>\n",
       "      <th>artist_pop</th>\n",
       "      <th>artist_genres</th>\n",
       "      <th>album</th>\n",
       "      <th>track_pop</th>\n",
       "      <th>explicit</th>\n",
       "      <th>acousticness</th>\n",
       "      <th>...</th>\n",
       "      <th>energy</th>\n",
       "      <th>instrumentalness</th>\n",
       "      <th>key</th>\n",
       "      <th>liveness</th>\n",
       "      <th>loudness</th>\n",
       "      <th>mode</th>\n",
       "      <th>speechiness</th>\n",
       "      <th>tempo</th>\n",
       "      <th>time_signature</th>\n",
       "      <th>valence</th>\n",
       "    </tr>\n",
       "  </thead>\n",
       "  <tbody>\n",
       "    <tr>\n",
       "      <th>0</th>\n",
       "      <td>spotify:track:5ZDLCdSHmpt2JKwWmotjzG</td>\n",
       "      <td>Pants</td>\n",
       "      <td>spotify:artist:2pXFmyqPm7wHJ1HGAwyR3L</td>\n",
       "      <td>Here Come The Mummies</td>\n",
       "      <td>34</td>\n",
       "      <td>[funk rock]</td>\n",
       "      <td>Single Entendre</td>\n",
       "      <td>0</td>\n",
       "      <td>False</td>\n",
       "      <td>0.02650</td>\n",
       "      <td>...</td>\n",
       "      <td>0.851</td>\n",
       "      <td>0.000000</td>\n",
       "      <td>1</td>\n",
       "      <td>0.3580</td>\n",
       "      <td>-4.067</td>\n",
       "      <td>0</td>\n",
       "      <td>0.0351</td>\n",
       "      <td>123.910</td>\n",
       "      <td>4</td>\n",
       "      <td>0.809</td>\n",
       "    </tr>\n",
       "    <tr>\n",
       "      <th>1</th>\n",
       "      <td>spotify:track:6NBqMK4DfBYGIzCnmSgliG</td>\n",
       "      <td>Dirty Minds</td>\n",
       "      <td>spotify:artist:2pXFmyqPm7wHJ1HGAwyR3L</td>\n",
       "      <td>Here Come The Mummies</td>\n",
       "      <td>34</td>\n",
       "      <td>[funk rock]</td>\n",
       "      <td>Everlasting Party</td>\n",
       "      <td>0</td>\n",
       "      <td>False</td>\n",
       "      <td>0.00999</td>\n",
       "      <td>...</td>\n",
       "      <td>0.832</td>\n",
       "      <td>0.000000</td>\n",
       "      <td>9</td>\n",
       "      <td>0.0902</td>\n",
       "      <td>-5.705</td>\n",
       "      <td>1</td>\n",
       "      <td>0.0605</td>\n",
       "      <td>132.901</td>\n",
       "      <td>4</td>\n",
       "      <td>0.878</td>\n",
       "    </tr>\n",
       "    <tr>\n",
       "      <th>2</th>\n",
       "      <td>spotify:track:4zxXklp6D4vClyC08SUeo9</td>\n",
       "      <td>Carnal Carnival</td>\n",
       "      <td>spotify:artist:2pXFmyqPm7wHJ1HGAwyR3L</td>\n",
       "      <td>Here Come The Mummies</td>\n",
       "      <td>34</td>\n",
       "      <td>[funk rock]</td>\n",
       "      <td>Carnal Carnival</td>\n",
       "      <td>0</td>\n",
       "      <td>False</td>\n",
       "      <td>0.44300</td>\n",
       "      <td>...</td>\n",
       "      <td>0.934</td>\n",
       "      <td>0.000000</td>\n",
       "      <td>11</td>\n",
       "      <td>0.6820</td>\n",
       "      <td>-3.049</td>\n",
       "      <td>0</td>\n",
       "      <td>0.0708</td>\n",
       "      <td>160.061</td>\n",
       "      <td>4</td>\n",
       "      <td>0.753</td>\n",
       "    </tr>\n",
       "    <tr>\n",
       "      <th>3</th>\n",
       "      <td>spotify:track:3qaO2Ko1b0bBisqNLU1e1s</td>\n",
       "      <td>Freak Flag</td>\n",
       "      <td>spotify:artist:2pXFmyqPm7wHJ1HGAwyR3L</td>\n",
       "      <td>Here Come The Mummies</td>\n",
       "      <td>34</td>\n",
       "      <td>[funk rock]</td>\n",
       "      <td>Carnal Carnival</td>\n",
       "      <td>0</td>\n",
       "      <td>False</td>\n",
       "      <td>0.03550</td>\n",
       "      <td>...</td>\n",
       "      <td>0.901</td>\n",
       "      <td>0.000000</td>\n",
       "      <td>1</td>\n",
       "      <td>0.3740</td>\n",
       "      <td>-3.393</td>\n",
       "      <td>1</td>\n",
       "      <td>0.0452</td>\n",
       "      <td>109.968</td>\n",
       "      <td>4</td>\n",
       "      <td>0.830</td>\n",
       "    </tr>\n",
       "    <tr>\n",
       "      <th>4</th>\n",
       "      <td>spotify:track:6zADCSrbXuHSTnZbznyyY9</td>\n",
       "      <td>Live in the Moment</td>\n",
       "      <td>spotify:artist:2pXFmyqPm7wHJ1HGAwyR3L</td>\n",
       "      <td>Here Come The Mummies</td>\n",
       "      <td>34</td>\n",
       "      <td>[funk rock]</td>\n",
       "      <td>Live in the Moment</td>\n",
       "      <td>0</td>\n",
       "      <td>False</td>\n",
       "      <td>0.00324</td>\n",
       "      <td>...</td>\n",
       "      <td>0.753</td>\n",
       "      <td>0.000215</td>\n",
       "      <td>1</td>\n",
       "      <td>0.1740</td>\n",
       "      <td>-6.065</td>\n",
       "      <td>0</td>\n",
       "      <td>0.0329</td>\n",
       "      <td>105.947</td>\n",
       "      <td>4</td>\n",
       "      <td>0.502</td>\n",
       "    </tr>\n",
       "  </tbody>\n",
       "</table>\n",
       "<p>5 rows × 21 columns</p>\n",
       "</div>"
      ],
      "text/plain": [
       "                              track_uri          track_name  \\\n",
       "0  spotify:track:5ZDLCdSHmpt2JKwWmotjzG               Pants   \n",
       "1  spotify:track:6NBqMK4DfBYGIzCnmSgliG         Dirty Minds   \n",
       "2  spotify:track:4zxXklp6D4vClyC08SUeo9     Carnal Carnival   \n",
       "3  spotify:track:3qaO2Ko1b0bBisqNLU1e1s          Freak Flag   \n",
       "4  spotify:track:6zADCSrbXuHSTnZbznyyY9  Live in the Moment   \n",
       "\n",
       "                              artist_uri            artist_name  artist_pop  \\\n",
       "0  spotify:artist:2pXFmyqPm7wHJ1HGAwyR3L  Here Come The Mummies          34   \n",
       "1  spotify:artist:2pXFmyqPm7wHJ1HGAwyR3L  Here Come The Mummies          34   \n",
       "2  spotify:artist:2pXFmyqPm7wHJ1HGAwyR3L  Here Come The Mummies          34   \n",
       "3  spotify:artist:2pXFmyqPm7wHJ1HGAwyR3L  Here Come The Mummies          34   \n",
       "4  spotify:artist:2pXFmyqPm7wHJ1HGAwyR3L  Here Come The Mummies          34   \n",
       "\n",
       "  artist_genres               album  track_pop  explicit  acousticness  ...  \\\n",
       "0   [funk rock]     Single Entendre          0     False       0.02650  ...   \n",
       "1   [funk rock]   Everlasting Party          0     False       0.00999  ...   \n",
       "2   [funk rock]     Carnal Carnival          0     False       0.44300  ...   \n",
       "3   [funk rock]     Carnal Carnival          0     False       0.03550  ...   \n",
       "4   [funk rock]  Live in the Moment          0     False       0.00324  ...   \n",
       "\n",
       "   energy  instrumentalness  key  liveness  loudness  mode  speechiness  \\\n",
       "0   0.851          0.000000    1    0.3580    -4.067     0       0.0351   \n",
       "1   0.832          0.000000    9    0.0902    -5.705     1       0.0605   \n",
       "2   0.934          0.000000   11    0.6820    -3.049     0       0.0708   \n",
       "3   0.901          0.000000    1    0.3740    -3.393     1       0.0452   \n",
       "4   0.753          0.000215    1    0.1740    -6.065     0       0.0329   \n",
       "\n",
       "     tempo  time_signature  valence  \n",
       "0  123.910               4    0.809  \n",
       "1  132.901               4    0.878  \n",
       "2  160.061               4    0.753  \n",
       "3  109.968               4    0.830  \n",
       "4  105.947               4    0.502  \n",
       "\n",
       "[5 rows x 21 columns]"
      ]
     },
     "execution_count": 2,
     "metadata": {},
     "output_type": "execute_result"
    }
   ],
   "source": [
    "pl_link = '\"https://open.spotify.com/playlist/7eWWLoTfmLUcD0viBP6Hr0?si=e8b0760749404749\"' # Tom's Funky Playlist\n",
    "pl_tracks = sppd.pl_track_features(pl_link)\n",
    "pl_tracks.head()"
   ]
  },
  {
   "cell_type": "code",
   "execution_count": 3,
   "id": "c3d945d5-10ce-4ef3-b543-6894978c65c4",
   "metadata": {},
   "outputs": [
    {
     "data": {
      "text/plain": [
       "Index(['track_uri', 'track_name', 'artist_uri', 'artist_name', 'artist_pop',\n",
       "       'artist_genres', 'album', 'track_pop', 'explicit', 'acousticness',\n",
       "       'danceability', 'energy', 'instrumentalness', 'key', 'liveness',\n",
       "       'loudness', 'mode', 'speechiness', 'tempo', 'time_signature',\n",
       "       'valence'],\n",
       "      dtype='object')"
      ]
     },
     "execution_count": 3,
     "metadata": {},
     "output_type": "execute_result"
    }
   ],
   "source": [
    "pl_tracks.columns"
   ]
  },
  {
   "cell_type": "code",
   "execution_count": 4,
   "id": "f721b84a-131f-4e39-bc3e-33c648b4e800",
   "metadata": {},
   "outputs": [
    {
     "data": {
      "text/plain": [
       "array(['Here Come The Mummies', 'Mingo Fishtrap', 'Phat Phunktion',\n",
       "       'Prince', 'Sister Sparrow', 'Santa Fe & The Fat City Horns',\n",
       "       'Jaco Pastorius', 'MF Robots', 'Philip Lassiter', 'Thomas Atlas',\n",
       "       'Orgone', 'Tom McGuire & the Brassholes', 'The Fearless Flyers',\n",
       "       'Lawrence', 'Tower Of Power', \"Home Cookin'\", 'Cory Wong',\n",
       "       'David Sanborn', 'Candy Dulfer', 'The Jazz Crusaders', 'Incognito',\n",
       "       'Maceo Parker'], dtype=object)"
      ]
     },
     "execution_count": 4,
     "metadata": {},
     "output_type": "execute_result"
    }
   ],
   "source": [
    "pl_tracks.artist_name.unique()"
   ]
  },
  {
   "cell_type": "code",
   "execution_count": 5,
   "id": "55573eda-9a4a-47b8-a949-b959060b0f2f",
   "metadata": {},
   "outputs": [
    {
     "data": {
      "text/plain": [
       "array(['spotify:artist:2pXFmyqPm7wHJ1HGAwyR3L',\n",
       "       'spotify:artist:7mYdzBqQUa1hb8jdRmMpfE',\n",
       "       'spotify:artist:3afwdwY97SMtIdnUsPTpQT',\n",
       "       'spotify:artist:5a2EaR3hamoenG9rDuVn8j',\n",
       "       'spotify:artist:5kah03Pzp6s8eD8vRIhdfL',\n",
       "       'spotify:artist:0DJRN6LYpYlKu30dsXefJv',\n",
       "       'spotify:artist:3U3C9o6UTYNdEsDckpRyvX',\n",
       "       'spotify:artist:3gfBx0SvMGdMQ2ZsjPvIV4',\n",
       "       'spotify:artist:1wnaeDbP5Yl9MNV9qC008L',\n",
       "       'spotify:artist:6JmjdmUmKCrzq0CqDt0vB6',\n",
       "       'spotify:artist:4WmMnGO1nLIsE85XwcBAZE',\n",
       "       'spotify:artist:7JnJgTo8cCtAQmtC0cJyjp',\n",
       "       'spotify:artist:1JyLSGXC3aWzjY6ZdxvIXh',\n",
       "       'spotify:artist:5rwUYLyUq8gBsVaOUcUxpE',\n",
       "       'spotify:artist:0JCxGVxsISZzJHJPUOtceB',\n",
       "       'spotify:artist:4GAyr0SBHrn2nL4tvwASuP',\n",
       "       'spotify:artist:6xt9sJmmyYwWkJv8A6ssiU',\n",
       "       'spotify:artist:7vNcTk9TgKF0qDsS87nWGE',\n",
       "       'spotify:artist:287jMoxHzjERgHI6ja8TKa',\n",
       "       'spotify:artist:6BufIg68WvvzrEqoDI19Kl',\n",
       "       'spotify:artist:5moJNCJeiNwuQAhDLJXULs',\n",
       "       'spotify:artist:4RAQZfFgR7NPAWjKwUpEeC'], dtype=object)"
      ]
     },
     "execution_count": 5,
     "metadata": {},
     "output_type": "execute_result"
    }
   ],
   "source": [
    "pl_artists = pl_tracks.artist_uri.unique()\n",
    "pl_artists"
   ]
  },
  {
   "cell_type": "markdown",
   "id": "f38f0324-35cb-43ee-b8e0-58a45c743b8e",
   "metadata": {},
   "source": [
    "## Find Related Artists\n",
    "For all of the playlist artists, find the related artists and create a unique list."
   ]
  },
  {
   "cell_type": "code",
   "execution_count": 6,
   "id": "d5172b97-f8ec-4f34-81e3-5625ee6ecf3d",
   "metadata": {},
   "outputs": [],
   "source": [
    "related_artists = pd.DataFrame()\n",
    "for artist in pl_artists:\n",
    "    these_related = sppd.related_artists(artist)\n",
    "    related_artists = pd.concat([related_artists, these_related])\n",
    "related_artists.drop_duplicates('name',  inplace=True)"
   ]
  },
  {
   "cell_type": "code",
   "execution_count": 7,
   "id": "d28427ea-d4ef-4532-9bd0-013ba0511135",
   "metadata": {},
   "outputs": [
    {
     "data": {
      "text/plain": [
       "329"
      ]
     },
     "execution_count": 7,
     "metadata": {},
     "output_type": "execute_result"
    }
   ],
   "source": [
    "len(related_artists)"
   ]
  },
  {
   "cell_type": "code",
   "execution_count": 8,
   "id": "752a7bb2-8f6e-469c-8200-b947368ea20f",
   "metadata": {},
   "outputs": [],
   "source": [
    "related_artists.sort_values('popularity', ascending=False, inplace=True)"
   ]
  },
  {
   "cell_type": "markdown",
   "id": "79cea95f-6aed-4ef6-bf3f-1d6e63152a6b",
   "metadata": {},
   "source": [
    "## Get all Tracks for Related Artists"
   ]
  },
  {
   "cell_type": "code",
   "execution_count": null,
   "id": "f05c428f-793c-4ba6-8317-21e38696f419",
   "metadata": {},
   "outputs": [
    {
     "name": "stdout",
     "output_type": "stream",
     "text": [
      "0/329 Bootsy Collins: spotify:artist:5K0rbdBrs2tNXe5LeWMATT\n",
      "186 tracks found\n",
      "1/329 Janet Jackson: spotify:artist:4qwGe91Bz9K2T8jXTZ815W\n",
      "280 tracks found\n",
      "2/329 Commodores: spotify:artist:6twIAGnYuIT1pncMAsXnEm\n",
      "230 tracks found\n"
     ]
    }
   ],
   "source": [
    "related_tracks = pd.DataFrame()\n",
    "\n",
    "for i in range(len(related_artists)):\n",
    "    artist_name = related_artists.iloc[i]['name']\n",
    "    artist_uri = related_artists.iloc[i]['uri']\n",
    "    print(f'{i}/{len(related_artists)} {artist_name}: {artist_uri}')\n",
    "    \n",
    "    this_artist_tracks = sppd.get_artist_track_features(artist_uri)\n",
    "    print(f'{len(this_artist_tracks)} tracks found')\n",
    "    related_tracks = pd.concat([related_tracks, this_artist_tracks])\n",
    "    \n",
    "    #write to excel in case of crash or rate-limit\n",
    "    related_tracks.to_excel(\"funky_related_tracks.xlsx\", index=False)\n",
    "    #sleep to avoid rate limit\n",
    "    time.sleep(60)"
   ]
  },
  {
   "cell_type": "code",
   "execution_count": null,
   "id": "cb2c4a41-f4e1-46d3-aa72-efaa2f05dc0c",
   "metadata": {},
   "outputs": [],
   "source": [
    "len(related_tracks)"
   ]
  },
  {
   "cell_type": "code",
   "execution_count": null,
   "id": "af525abd-923b-4403-94af-31a6c8d0bfed",
   "metadata": {},
   "outputs": [],
   "source": [
    "50 % 50"
   ]
  },
  {
   "cell_type": "code",
   "execution_count": null,
   "id": "83aefb18-a2d0-44cf-80bf-87ca6e568198",
   "metadata": {},
   "outputs": [],
   "source": []
  }
 ],
 "metadata": {
  "kernelspec": {
   "display_name": "Python 3 (ipykernel)",
   "language": "python",
   "name": "python3"
  },
  "language_info": {
   "codemirror_mode": {
    "name": "ipython",
    "version": 3
   },
   "file_extension": ".py",
   "mimetype": "text/x-python",
   "name": "python",
   "nbconvert_exporter": "python",
   "pygments_lexer": "ipython3",
   "version": "3.8.8"
  }
 },
 "nbformat": 4,
 "nbformat_minor": 5
}
