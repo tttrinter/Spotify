{
 "cells": [
  {
   "cell_type": "markdown",
   "id": "f2a5d5d0-168c-4230-a0b5-3f51c291fd64",
   "metadata": {},
   "source": [
    "# Spotify API Experiments\n",
    "\n",
    "https://developer.spotify.com/community"
   ]
  },
  {
   "cell_type": "code",
   "execution_count": 1,
   "id": "fa2b9c61-9aa3-4e8f-b4a0-a7748996ff5c",
   "metadata": {},
   "outputs": [],
   "source": [
    "import spotipy\n",
    "from spotipy.oauth2 import SpotifyClientCredentials\n",
    "import pandas as pd\n",
    "import numpy as np\n",
    "\n",
    "# Spotify Credentials\n",
    "import spot_creds\n",
    "\n",
    "# Graphing\n",
    "import matplotlib.pyplot as plt\n",
    "\n",
    "# Scikit-Learn\n",
    "from sklearn.feature_extraction.text import TfidfVectorizer\n",
    "\n",
    "clid = spot_creds.client_id\n",
    "secret = spot_creds.secret\n"
   ]
  },
  {
   "cell_type": "code",
   "execution_count": 2,
   "id": "166239a3-9293-4b23-b043-de7274acbc67",
   "metadata": {},
   "outputs": [],
   "source": [
    "#Authentication - without user\n",
    "client_credentials_manager = SpotifyClientCredentials(client_id=clid, client_secret=secret)\n",
    "sp = spotipy.Spotify(client_credentials_manager = client_credentials_manager)"
   ]
  },
  {
   "cell_type": "markdown",
   "id": "24f62ad5-b136-4b9a-a53f-bd0885a449b8",
   "metadata": {},
   "source": [
    "## Get Songs from Playlist\n",
    "Using my \"Tom's Funky Jazz Group\" playlist."
   ]
  },
  {
   "cell_type": "code",
   "execution_count": 3,
   "id": "ab387b08-15ec-4e14-9ac2-dd8654b8356c",
   "metadata": {},
   "outputs": [],
   "source": [
    "# playlist_link = \"https://open.spotify.com/playlist/1jAT4AEQab8P4Qg1olncPw\" # Tom's Funky Jazz Group\n",
    "playlist_link = \"https://open.spotify.com/playlist/7eWWLoTfmLUcD0viBP6Hr0?si=e8b0760749404749\" #Funky Songs\n",
    "playlist_URI = playlist_link.split(\"/\")[-1].split(\"?\")[0]\n",
    "track_uris = [x[\"track\"][\"uri\"] for x in sp.playlist_tracks(playlist_URI)[\"items\"]]"
   ]
  },
  {
   "cell_type": "code",
   "execution_count": 4,
   "id": "df72c05a-8d9c-4bdc-8266-ec13c08e42f8",
   "metadata": {},
   "outputs": [],
   "source": [
    "# sp.playlist_tracks(playlist_URI)"
   ]
  },
  {
   "cell_type": "code",
   "execution_count": 5,
   "id": "9d1819b1-a823-402b-8ef9-1769bcfce1c3",
   "metadata": {},
   "outputs": [],
   "source": [
    "first_track = sp.playlist_tracks(playlist_URI)[\"items\"][0]"
   ]
  },
  {
   "cell_type": "code",
   "execution_count": 6,
   "id": "f0f723d3-5134-45b1-9ce6-0bf6aa36de20",
   "metadata": {},
   "outputs": [
    {
     "data": {
      "text/plain": [
       "{'added_at': '2020-10-21T17:21:52Z',\n",
       " 'added_by': {'external_urls': {'spotify': 'https://open.spotify.com/user/12100945354'},\n",
       "  'href': 'https://api.spotify.com/v1/users/12100945354',\n",
       "  'id': '12100945354',\n",
       "  'type': 'user',\n",
       "  'uri': 'spotify:user:12100945354'},\n",
       " 'is_local': False,\n",
       " 'primary_color': None,\n",
       " 'track': {'album': {'album_type': 'album',\n",
       "   'artists': [{'external_urls': {'spotify': 'https://open.spotify.com/artist/2pXFmyqPm7wHJ1HGAwyR3L'},\n",
       "     'href': 'https://api.spotify.com/v1/artists/2pXFmyqPm7wHJ1HGAwyR3L',\n",
       "     'id': '2pXFmyqPm7wHJ1HGAwyR3L',\n",
       "     'name': 'Here Come The Mummies',\n",
       "     'type': 'artist',\n",
       "     'uri': 'spotify:artist:2pXFmyqPm7wHJ1HGAwyR3L'}],\n",
       "   'available_markets': [],\n",
       "   'external_urls': {'spotify': 'https://open.spotify.com/album/5qkp95o3LcCOpo4rQddh3n'},\n",
       "   'href': 'https://api.spotify.com/v1/albums/5qkp95o3LcCOpo4rQddh3n',\n",
       "   'id': '5qkp95o3LcCOpo4rQddh3n',\n",
       "   'images': [{'height': 640,\n",
       "     'url': 'https://i.scdn.co/image/ab67616d0000b2730c4072e9a5c9017f1f69d3c9',\n",
       "     'width': 640},\n",
       "    {'height': 300,\n",
       "     'url': 'https://i.scdn.co/image/ab67616d00001e020c4072e9a5c9017f1f69d3c9',\n",
       "     'width': 300},\n",
       "    {'height': 64,\n",
       "     'url': 'https://i.scdn.co/image/ab67616d000048510c4072e9a5c9017f1f69d3c9',\n",
       "     'width': 64}],\n",
       "   'name': 'Single Entendre',\n",
       "   'release_date': '2008-01-01',\n",
       "   'release_date_precision': 'day',\n",
       "   'total_tracks': 15,\n",
       "   'type': 'album',\n",
       "   'uri': 'spotify:album:5qkp95o3LcCOpo4rQddh3n'},\n",
       "  'artists': [{'external_urls': {'spotify': 'https://open.spotify.com/artist/2pXFmyqPm7wHJ1HGAwyR3L'},\n",
       "    'href': 'https://api.spotify.com/v1/artists/2pXFmyqPm7wHJ1HGAwyR3L',\n",
       "    'id': '2pXFmyqPm7wHJ1HGAwyR3L',\n",
       "    'name': 'Here Come The Mummies',\n",
       "    'type': 'artist',\n",
       "    'uri': 'spotify:artist:2pXFmyqPm7wHJ1HGAwyR3L'}],\n",
       "  'available_markets': [],\n",
       "  'disc_number': 1,\n",
       "  'duration_ms': 203386,\n",
       "  'episode': False,\n",
       "  'explicit': False,\n",
       "  'external_ids': {'isrc': 'USHM80693938'},\n",
       "  'external_urls': {'spotify': 'https://open.spotify.com/track/5ZDLCdSHmpt2JKwWmotjzG'},\n",
       "  'href': 'https://api.spotify.com/v1/tracks/5ZDLCdSHmpt2JKwWmotjzG',\n",
       "  'id': '5ZDLCdSHmpt2JKwWmotjzG',\n",
       "  'is_local': False,\n",
       "  'name': 'Pants',\n",
       "  'popularity': 0,\n",
       "  'preview_url': None,\n",
       "  'track': True,\n",
       "  'track_number': 4,\n",
       "  'type': 'track',\n",
       "  'uri': 'spotify:track:5ZDLCdSHmpt2JKwWmotjzG'},\n",
       " 'video_thumbnail': {'url': None}}"
      ]
     },
     "execution_count": 6,
     "metadata": {},
     "output_type": "execute_result"
    }
   ],
   "source": [
    "first_track"
   ]
  },
  {
   "cell_type": "code",
   "execution_count": 7,
   "id": "0264eb91-6a05-4c80-bf74-fe36a51301bc",
   "metadata": {},
   "outputs": [],
   "source": [
    "def extract_audio_feat(track_uri, track_dict):\n",
    "        # Audio Features\n",
    "    audio_feat_list = ['acousticness',\n",
    "                       'danceability',\n",
    "                       'energy',\n",
    "                       'instrumentalness',\n",
    "                       'key',\n",
    "                       'liveness',\n",
    "                       'loudness',\n",
    "                       'mode',\n",
    "                       'speechiness',\n",
    "                       'tempo',\n",
    "                       'time_signature',\n",
    "                       'valence']\n",
    "                       \n",
    "    audio_feat = sp.audio_features(track_uri)[0]\n",
    "    \n",
    "    audio_feat_list = ['acousticness',\n",
    "                       'danceability',\n",
    "                       'energy',\n",
    "                       'instrumentalness',\n",
    "                       'key',\n",
    "                       'liveness',\n",
    "                       'loudness',\n",
    "                       'mode',\n",
    "                       'speechiness',\n",
    "                       'tempo',\n",
    "                       'time_signature',\n",
    "                       'valence']\n",
    "    \n",
    "    for feat in audio_feat_list:\n",
    "        track_dict[feat] = audio_feat[feat]\n",
    "        \n",
    "    return track_dict\n",
    "\n",
    "\n"
   ]
  },
  {
   "cell_type": "code",
   "execution_count": 8,
   "id": "5c4ae842-8906-4737-a08a-d61027197c26",
   "metadata": {},
   "outputs": [
    {
     "data": {
      "text/html": [
       "<div>\n",
       "<style scoped>\n",
       "    .dataframe tbody tr th:only-of-type {\n",
       "        vertical-align: middle;\n",
       "    }\n",
       "\n",
       "    .dataframe tbody tr th {\n",
       "        vertical-align: top;\n",
       "    }\n",
       "\n",
       "    .dataframe thead th {\n",
       "        text-align: right;\n",
       "    }\n",
       "</style>\n",
       "<table border=\"1\" class=\"dataframe\">\n",
       "  <thead>\n",
       "    <tr style=\"text-align: right;\">\n",
       "      <th></th>\n",
       "      <th>track_uri</th>\n",
       "      <th>track_name</th>\n",
       "      <th>artist_uri</th>\n",
       "      <th>artist_name</th>\n",
       "      <th>artist_pop</th>\n",
       "      <th>artist_genres</th>\n",
       "      <th>album</th>\n",
       "      <th>track_pop</th>\n",
       "      <th>explicit</th>\n",
       "      <th>acousticness</th>\n",
       "      <th>...</th>\n",
       "      <th>energy</th>\n",
       "      <th>instrumentalness</th>\n",
       "      <th>key</th>\n",
       "      <th>liveness</th>\n",
       "      <th>loudness</th>\n",
       "      <th>mode</th>\n",
       "      <th>speechiness</th>\n",
       "      <th>tempo</th>\n",
       "      <th>time_signature</th>\n",
       "      <th>valence</th>\n",
       "    </tr>\n",
       "  </thead>\n",
       "  <tbody>\n",
       "    <tr>\n",
       "      <th>0</th>\n",
       "      <td>spotify:track:5ZDLCdSHmpt2JKwWmotjzG</td>\n",
       "      <td>Pants</td>\n",
       "      <td>spotify:artist:2pXFmyqPm7wHJ1HGAwyR3L</td>\n",
       "      <td>Here Come The Mummies</td>\n",
       "      <td>35</td>\n",
       "      <td>[funk rock]</td>\n",
       "      <td>Single Entendre</td>\n",
       "      <td>0</td>\n",
       "      <td>False</td>\n",
       "      <td>0.02650</td>\n",
       "      <td>...</td>\n",
       "      <td>0.851</td>\n",
       "      <td>0.000000</td>\n",
       "      <td>1</td>\n",
       "      <td>0.3580</td>\n",
       "      <td>-4.067</td>\n",
       "      <td>0</td>\n",
       "      <td>0.0351</td>\n",
       "      <td>123.910</td>\n",
       "      <td>4</td>\n",
       "      <td>0.809</td>\n",
       "    </tr>\n",
       "    <tr>\n",
       "      <th>1</th>\n",
       "      <td>spotify:track:6NBqMK4DfBYGIzCnmSgliG</td>\n",
       "      <td>Dirty Minds</td>\n",
       "      <td>spotify:artist:2pXFmyqPm7wHJ1HGAwyR3L</td>\n",
       "      <td>Here Come The Mummies</td>\n",
       "      <td>35</td>\n",
       "      <td>[funk rock]</td>\n",
       "      <td>Everlasting Party</td>\n",
       "      <td>0</td>\n",
       "      <td>False</td>\n",
       "      <td>0.00999</td>\n",
       "      <td>...</td>\n",
       "      <td>0.832</td>\n",
       "      <td>0.000000</td>\n",
       "      <td>9</td>\n",
       "      <td>0.0902</td>\n",
       "      <td>-5.705</td>\n",
       "      <td>1</td>\n",
       "      <td>0.0605</td>\n",
       "      <td>132.901</td>\n",
       "      <td>4</td>\n",
       "      <td>0.878</td>\n",
       "    </tr>\n",
       "    <tr>\n",
       "      <th>2</th>\n",
       "      <td>spotify:track:4zxXklp6D4vClyC08SUeo9</td>\n",
       "      <td>Carnal Carnival</td>\n",
       "      <td>spotify:artist:2pXFmyqPm7wHJ1HGAwyR3L</td>\n",
       "      <td>Here Come The Mummies</td>\n",
       "      <td>35</td>\n",
       "      <td>[funk rock]</td>\n",
       "      <td>Carnal Carnival</td>\n",
       "      <td>0</td>\n",
       "      <td>False</td>\n",
       "      <td>0.44300</td>\n",
       "      <td>...</td>\n",
       "      <td>0.934</td>\n",
       "      <td>0.000000</td>\n",
       "      <td>11</td>\n",
       "      <td>0.6820</td>\n",
       "      <td>-3.049</td>\n",
       "      <td>0</td>\n",
       "      <td>0.0708</td>\n",
       "      <td>160.061</td>\n",
       "      <td>4</td>\n",
       "      <td>0.753</td>\n",
       "    </tr>\n",
       "    <tr>\n",
       "      <th>3</th>\n",
       "      <td>spotify:track:3qaO2Ko1b0bBisqNLU1e1s</td>\n",
       "      <td>Freak Flag</td>\n",
       "      <td>spotify:artist:2pXFmyqPm7wHJ1HGAwyR3L</td>\n",
       "      <td>Here Come The Mummies</td>\n",
       "      <td>35</td>\n",
       "      <td>[funk rock]</td>\n",
       "      <td>Carnal Carnival</td>\n",
       "      <td>0</td>\n",
       "      <td>False</td>\n",
       "      <td>0.03550</td>\n",
       "      <td>...</td>\n",
       "      <td>0.901</td>\n",
       "      <td>0.000000</td>\n",
       "      <td>1</td>\n",
       "      <td>0.3740</td>\n",
       "      <td>-3.393</td>\n",
       "      <td>1</td>\n",
       "      <td>0.0452</td>\n",
       "      <td>109.968</td>\n",
       "      <td>4</td>\n",
       "      <td>0.830</td>\n",
       "    </tr>\n",
       "    <tr>\n",
       "      <th>4</th>\n",
       "      <td>spotify:track:6zADCSrbXuHSTnZbznyyY9</td>\n",
       "      <td>Live in the Moment</td>\n",
       "      <td>spotify:artist:2pXFmyqPm7wHJ1HGAwyR3L</td>\n",
       "      <td>Here Come The Mummies</td>\n",
       "      <td>35</td>\n",
       "      <td>[funk rock]</td>\n",
       "      <td>Live in the Moment</td>\n",
       "      <td>0</td>\n",
       "      <td>False</td>\n",
       "      <td>0.00324</td>\n",
       "      <td>...</td>\n",
       "      <td>0.753</td>\n",
       "      <td>0.000215</td>\n",
       "      <td>1</td>\n",
       "      <td>0.1740</td>\n",
       "      <td>-6.065</td>\n",
       "      <td>0</td>\n",
       "      <td>0.0329</td>\n",
       "      <td>105.947</td>\n",
       "      <td>4</td>\n",
       "      <td>0.502</td>\n",
       "    </tr>\n",
       "  </tbody>\n",
       "</table>\n",
       "<p>5 rows × 21 columns</p>\n",
       "</div>"
      ],
      "text/plain": [
       "                              track_uri          track_name  \\\n",
       "0  spotify:track:5ZDLCdSHmpt2JKwWmotjzG               Pants   \n",
       "1  spotify:track:6NBqMK4DfBYGIzCnmSgliG         Dirty Minds   \n",
       "2  spotify:track:4zxXklp6D4vClyC08SUeo9     Carnal Carnival   \n",
       "3  spotify:track:3qaO2Ko1b0bBisqNLU1e1s          Freak Flag   \n",
       "4  spotify:track:6zADCSrbXuHSTnZbznyyY9  Live in the Moment   \n",
       "\n",
       "                              artist_uri            artist_name  artist_pop  \\\n",
       "0  spotify:artist:2pXFmyqPm7wHJ1HGAwyR3L  Here Come The Mummies          35   \n",
       "1  spotify:artist:2pXFmyqPm7wHJ1HGAwyR3L  Here Come The Mummies          35   \n",
       "2  spotify:artist:2pXFmyqPm7wHJ1HGAwyR3L  Here Come The Mummies          35   \n",
       "3  spotify:artist:2pXFmyqPm7wHJ1HGAwyR3L  Here Come The Mummies          35   \n",
       "4  spotify:artist:2pXFmyqPm7wHJ1HGAwyR3L  Here Come The Mummies          35   \n",
       "\n",
       "  artist_genres               album  track_pop  explicit  acousticness  ...  \\\n",
       "0   [funk rock]     Single Entendre          0     False       0.02650  ...   \n",
       "1   [funk rock]   Everlasting Party          0     False       0.00999  ...   \n",
       "2   [funk rock]     Carnal Carnival          0     False       0.44300  ...   \n",
       "3   [funk rock]     Carnal Carnival          0     False       0.03550  ...   \n",
       "4   [funk rock]  Live in the Moment          0     False       0.00324  ...   \n",
       "\n",
       "   energy  instrumentalness  key  liveness  loudness  mode  speechiness  \\\n",
       "0   0.851          0.000000    1    0.3580    -4.067     0       0.0351   \n",
       "1   0.832          0.000000    9    0.0902    -5.705     1       0.0605   \n",
       "2   0.934          0.000000   11    0.6820    -3.049     0       0.0708   \n",
       "3   0.901          0.000000    1    0.3740    -3.393     1       0.0452   \n",
       "4   0.753          0.000215    1    0.1740    -6.065     0       0.0329   \n",
       "\n",
       "     tempo  time_signature  valence  \n",
       "0  123.910               4    0.809  \n",
       "1  132.901               4    0.878  \n",
       "2  160.061               4    0.753  \n",
       "3  109.968               4    0.830  \n",
       "4  105.947               4    0.502  \n",
       "\n",
       "[5 rows x 21 columns]"
      ]
     },
     "execution_count": 8,
     "metadata": {},
     "output_type": "execute_result"
    }
   ],
   "source": [
    "tracks_df = pd.DataFrame()\n",
    "\n",
    "for track in sp.playlist_tracks(playlist_URI)[\"items\"]:\n",
    "    this_track = {}\n",
    "    #URI\n",
    "    track_uri = track[\"track\"][\"uri\"]\n",
    "    this_track['track_uri'] = track_uri\n",
    "    \n",
    "    #Track name\n",
    "    this_track['track_name'] = track[\"track\"][\"name\"]\n",
    "    \n",
    "    #Main Artist\n",
    "    artist_uri = track[\"track\"][\"artists\"][0][\"uri\"]\n",
    "    this_track['artist_uri'] = artist_uri\n",
    "    artist_info = sp.artist(artist_uri)\n",
    "    \n",
    "    #Name, popularity, genre\n",
    "    this_track['artist_name'] = track[\"track\"][\"artists\"][0][\"name\"]\n",
    "    this_track['artist_pop'] = artist_info[\"popularity\"]\n",
    "    this_track['artist_genres'] = artist_info[\"genres\"]\n",
    "    \n",
    "    #Album\n",
    "    this_track['album'] = track[\"track\"][\"album\"][\"name\"]\n",
    "    \n",
    "    #Track Metadata\n",
    "    this_track['track_pop'] = track[\"track\"][\"popularity\"]\n",
    "    this_track['explicit'] = track[\"track\"]['explicit']\n",
    "    \n",
    "    # Audio Features\n",
    "    this_track = extract_audio_feat(track_uri, this_track)\n",
    "    \n",
    "    \n",
    "# Convert to DataFrame\n",
    "    this_track_df = pd.json_normalize(this_track)\n",
    "    \n",
    "    tracks_df = pd.concat([tracks_df,this_track_df], ignore_index=True)\n",
    "    \n",
    "    # Make sure there are no duplicates\n",
    "    tracks_df = tracks_df.drop_duplicates('track_uri')\n",
    "    \n",
    "tracks_df.head()"
   ]
  },
  {
   "cell_type": "code",
   "execution_count": null,
   "id": "fb70e451-ca42-4e42-b106-7f0bba2d8752",
   "metadata": {},
   "outputs": [],
   "source": [
    "tracks_df.loc[tracks_df.explicit==True]"
   ]
  },
  {
   "cell_type": "code",
   "execution_count": null,
   "id": "e597e1f2-63a6-4f42-ac2f-f7fee93f8d58",
   "metadata": {},
   "outputs": [],
   "source": [
    "genres_df = pd.DataFrame(\n",
    "        pd.DataFrame(tracks_df.artist_genres.tolist())[0].tolist(), index=tracks_df.track_name\n",
    ")\n",
    "genres_df.columns=['genre']\n",
    "genres_df.reset_index(inplace=True)\n",
    "genres_df.head()"
   ]
  },
  {
   "cell_type": "code",
   "execution_count": null,
   "id": "4b858320-6c7b-4fe1-860b-cb2f983b17ff",
   "metadata": {},
   "outputs": [],
   "source": [
    "genres_df.genre.value_counts().plot(kind='bar', rot=45)"
   ]
  },
  {
   "cell_type": "code",
   "execution_count": null,
   "id": "1185cb95-4999-4d8d-ac0f-ead9f3b9a15d",
   "metadata": {},
   "outputs": [],
   "source": [
    "tracks_df.artist_name.value_counts()"
   ]
  },
  {
   "cell_type": "markdown",
   "id": "11f62c41-5c7a-4f53-80c1-8a6988fe89ec",
   "metadata": {},
   "source": [
    "## Audio Features"
   ]
  },
  {
   "cell_type": "code",
   "execution_count": null,
   "id": "47ea3b54-8934-4c70-aaae-db9f0eb34708",
   "metadata": {},
   "outputs": [],
   "source": [
    "tracks_df.iloc[0]"
   ]
  },
  {
   "cell_type": "code",
   "execution_count": null,
   "id": "1ef1ea5a-d35b-4e7c-89bb-ff19ab2d2158",
   "metadata": {},
   "outputs": [],
   "source": [
    "track_uri = tracks_df.iloc[1]['track_uri']\n",
    "audio_feat = sp.audio_features(track_uri)\n",
    "audio_feat"
   ]
  },
  {
   "cell_type": "code",
   "execution_count": null,
   "id": "790ec36f-fbfb-4e44-8a4c-636544709e64",
   "metadata": {},
   "outputs": [],
   "source": [
    "audio_feat[0]['danceability']"
   ]
  },
  {
   "cell_type": "code",
   "execution_count": null,
   "id": "e47243ef-d3e3-4d10-b39b-55ba44478c5a",
   "metadata": {},
   "outputs": [],
   "source": [
    "# sp.audio_analysis(track_uri)"
   ]
  },
  {
   "cell_type": "code",
   "execution_count": null,
   "id": "319cb261-51db-47a2-a21b-8f63245c0093",
   "metadata": {},
   "outputs": [],
   "source": [
    "tracks_df.describe()"
   ]
  },
  {
   "cell_type": "markdown",
   "id": "a2b2a308-7aac-46f3-a975-45cd6c734461",
   "metadata": {},
   "source": [
    "## Features\n",
    "\n",
    "### Meta Data"
   ]
  },
  {
   "cell_type": "code",
   "execution_count": null,
   "id": "fe1d9d6a-12ec-4f85-b909-f7c83b01a9dc",
   "metadata": {},
   "outputs": [],
   "source": [
    "def ohe_prep(df, column, new_name): \n",
    "    ''' \n",
    "    Create One Hot Encoded features of a specific column\n",
    "    ---\n",
    "    Input: \n",
    "    df (pandas dataframe): Spotify Dataframe\n",
    "    column (str): Column to be processed\n",
    "    new_name (str): new column name to be used\n",
    "        \n",
    "    Output: \n",
    "    tf_df: One-hot encoded features \n",
    "    '''\n",
    "    \n",
    "    tf_df = pd.get_dummies(df[column])\n",
    "    feature_names = tf_df.columns\n",
    "    tf_df.columns = [new_name + \"|\" + str(i) for i in feature_names]\n",
    "    tf_df.reset_index(drop = True, inplace = True)    \n",
    "    return tf_df\n",
    "\n"
   ]
  },
  {
   "cell_type": "code",
   "execution_count": null,
   "id": "92ee6d8e-e686-42a3-b9a4-fb9f35ddf146",
   "metadata": {},
   "outputs": [],
   "source": [
    "# TF-IDF implementation\n",
    "tfidf = TfidfVectorizer()\n",
    "tfidf_matrix =  tfidf.fit_transform(tracks_df['artist_genres'].apply(lambda x: \" \".join(x)))\n",
    "genre_df = pd.DataFrame(tfidf_matrix.toarray())\n",
    "genre_df.columns = ['genre' + \"|\" + i for i in tfidf.get_feature_names()]\n",
    "# genre_df.drop(columns='genre|unknown') # Drop unknown genre\n",
    "genre_df.reset_index(drop = True, inplace=True)\n",
    "genre_df.iloc[0]"
   ]
  },
  {
   "cell_type": "code",
   "execution_count": null,
   "id": "17ad5f09-9a20-462f-a06f-8ef40b1a63e6",
   "metadata": {},
   "outputs": [],
   "source": [
    "list(genre_df.columns)"
   ]
  },
  {
   "cell_type": "code",
   "execution_count": null,
   "id": "ec792bfe-6e7e-46da-9ae5-f8ceb43873e9",
   "metadata": {},
   "outputs": [],
   "source": [
    "# normalize popularity\n",
    "tracks_df['artist_pop'] = tracks_df['artist_pop']/100\n",
    "tracks_df['track_pop'] = tracks_df['track_pop']/100\n"
   ]
  },
  {
   "cell_type": "markdown",
   "id": "b11a9b3a-ad48-44ba-bc8d-7ae42d770e6c",
   "metadata": {},
   "source": [
    "# Artist\n",
    "Can we get \"Fans Also Like\" artists from an artist and then pull those songs?"
   ]
  },
  {
   "cell_type": "code",
   "execution_count": 20,
   "id": "39ea3f8e-72c0-435f-8b91-85af451a7c41",
   "metadata": {},
   "outputs": [],
   "source": [
    "artist_id = '2pXFmyqPm7wHJ1HGAwyR3L' # HCTM\n",
    "artist_id = '7JnJgTo8cCtAQmtC0cJyjp' # Tom McGuire and the Brassholes\n",
    "related_artists = sp.artist_related_artists(artist_id)"
   ]
  },
  {
   "cell_type": "code",
   "execution_count": 21,
   "id": "5de89df2-ec24-4fb9-b148-552679a88cf2",
   "metadata": {},
   "outputs": [
    {
     "name": "stdout",
     "output_type": "stream",
     "text": [
      "Family Company\n",
      "Verdine White\n",
      "Love the System\n",
      "Philip Lassiter\n",
      "Dumpstaphunk\n",
      "Cissy Street\n",
      "The Filthy Six\n",
      "Funky Times\n",
      "Redtenbacher's Funkestra\n",
      "Supermoon\n",
      "Orgone\n",
      "Swatkins\n",
      "Echo Echo\n",
      "The Haggis Horns\n",
      "The New Mastersounds\n",
      "Sam Greenfield\n",
      "Mingo Fishtrap\n",
      "Giacomo Turra\n",
      "Dylan Chambers\n",
      "Huntertones\n"
     ]
    }
   ],
   "source": [
    "for artist in related_artists['artists']:\n",
    "    print(artist['name'])"
   ]
  },
  {
   "cell_type": "code",
   "execution_count": null,
   "id": "23f4c5fe-6bb2-4410-9461-ce9a3718bb9d",
   "metadata": {},
   "outputs": [],
   "source": []
  }
 ],
 "metadata": {
  "kernelspec": {
   "display_name": "Python 3 (ipykernel)",
   "language": "python",
   "name": "python3"
  },
  "language_info": {
   "codemirror_mode": {
    "name": "ipython",
    "version": 3
   },
   "file_extension": ".py",
   "mimetype": "text/x-python",
   "name": "python",
   "nbconvert_exporter": "python",
   "pygments_lexer": "ipython3",
   "version": "3.8.8"
  }
 },
 "nbformat": 4,
 "nbformat_minor": 5
}
