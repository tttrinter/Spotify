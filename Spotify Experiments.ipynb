{
 "cells": [
  {
   "cell_type": "markdown",
   "id": "f2a5d5d0-168c-4230-a0b5-3f51c291fd64",
   "metadata": {},
   "source": [
    "# Spotify API Experiments\n",
    "\n",
    "https://developer.spotify.com/community"
   ]
  },
  {
   "cell_type": "code",
   "execution_count": 2,
   "id": "fa2b9c61-9aa3-4e8f-b4a0-a7748996ff5c",
   "metadata": {},
   "outputs": [],
   "source": [
    "import spotipy\n",
    "from spotipy.oauth2 import SpotifyClientCredentials\n",
    "import pandas as pd\n",
    "import numpy as np\n",
    "\n",
    "# Spotify Credentials\n",
    "import spot_creds\n",
    "\n",
    "# Graphing\n",
    "import matplotlib.pyplot as plt\n",
    "\n",
    "# Scikit-Learn\n",
    "from sklearn.feature_extraction.text import TfidfVectorizer\n",
    "\n",
    "clid = spot_creds.client_id\n",
    "secret = spot_creds.secret\n"
   ]
  },
  {
   "cell_type": "code",
   "execution_count": 3,
   "id": "166239a3-9293-4b23-b043-de7274acbc67",
   "metadata": {},
   "outputs": [],
   "source": [
    "#Authentication - without user\n",
    "client_credentials_manager = SpotifyClientCredentials(client_id=clid, client_secret=secret)\n",
    "sp = spotipy.Spotify(client_credentials_manager = client_credentials_manager)"
   ]
  },
  {
   "cell_type": "markdown",
   "id": "24f62ad5-b136-4b9a-a53f-bd0885a449b8",
   "metadata": {},
   "source": [
    "## Get Songs from Playlist\n",
    "Using my \"Tom's Funky Jazz Group\" playlist."
   ]
  },
  {
   "cell_type": "code",
   "execution_count": null,
   "id": "ab387b08-15ec-4e14-9ac2-dd8654b8356c",
   "metadata": {},
   "outputs": [],
   "source": [
    "# playlist_link = \"https://open.spotify.com/playlist/1jAT4AEQab8P4Qg1olncPw\" # Tom's Funky Jazz Group\n",
    "playlist_link = \"https://open.spotify.com/playlist/7eWWLoTfmLUcD0viBP6Hr0?si=e8b0760749404749\" #Funky Songs\n",
    "playlist_URI = playlist_link.split(\"/\")[-1].split(\"?\")[0]\n",
    "track_uris = [x[\"track\"][\"uri\"] for x in sp.playlist_tracks(playlist_URI)[\"items\"]]"
   ]
  },
  {
   "cell_type": "code",
   "execution_count": null,
   "id": "df72c05a-8d9c-4bdc-8266-ec13c08e42f8",
   "metadata": {},
   "outputs": [],
   "source": [
    "# sp.playlist_tracks(playlist_URI)"
   ]
  },
  {
   "cell_type": "code",
   "execution_count": null,
   "id": "9d1819b1-a823-402b-8ef9-1769bcfce1c3",
   "metadata": {},
   "outputs": [],
   "source": [
    "first_track = sp.playlist_tracks(playlist_URI)[\"items\"][0]"
   ]
  },
  {
   "cell_type": "code",
   "execution_count": null,
   "id": "f0f723d3-5134-45b1-9ce6-0bf6aa36de20",
   "metadata": {},
   "outputs": [],
   "source": [
    "first_track"
   ]
  },
  {
   "cell_type": "code",
   "execution_count": null,
   "id": "0264eb91-6a05-4c80-bf74-fe36a51301bc",
   "metadata": {},
   "outputs": [],
   "source": [
    "def extract_audio_feat(track_uri, track_dict):\n",
    "        # Audio Features\n",
    "    audio_feat_list = ['acousticness',\n",
    "                       'danceability',\n",
    "                       'energy',\n",
    "                       'instrumentalness',\n",
    "                       'key',\n",
    "                       'liveness',\n",
    "                       'loudness',\n",
    "                       'mode',\n",
    "                       'speechiness',\n",
    "                       'tempo',\n",
    "                       'time_signature',\n",
    "                       'valence']\n",
    "                       \n",
    "    audio_feat = sp.audio_features(track_uri)[0]\n",
    "    \n",
    "    audio_feat_list = ['acousticness',\n",
    "                       'danceability',\n",
    "                       'energy',\n",
    "                       'instrumentalness',\n",
    "                       'key',\n",
    "                       'liveness',\n",
    "                       'loudness',\n",
    "                       'mode',\n",
    "                       'speechiness',\n",
    "                       'tempo',\n",
    "                       'time_signature',\n",
    "                       'valence']\n",
    "    \n",
    "    for feat in audio_feat_list:\n",
    "        track_dict[feat] = audio_feat[feat]\n",
    "        \n",
    "    return track_dict\n",
    "\n",
    "\n"
   ]
  },
  {
   "cell_type": "code",
   "execution_count": null,
   "id": "5c4ae842-8906-4737-a08a-d61027197c26",
   "metadata": {},
   "outputs": [],
   "source": [
    "tracks_df = pd.DataFrame()\n",
    "\n",
    "for track in sp.playlist_tracks(playlist_URI)[\"items\"]:\n",
    "    this_track = {}\n",
    "    #URI\n",
    "    track_uri = track[\"track\"][\"uri\"]\n",
    "    this_track['track_uri'] = track_uri\n",
    "    \n",
    "    #Track name\n",
    "    this_track['track_name'] = track[\"track\"][\"name\"]\n",
    "    \n",
    "    #Main Artist\n",
    "    artist_uri = track[\"track\"][\"artists\"][0][\"uri\"]\n",
    "    this_track['artist_uri'] = artist_uri\n",
    "    artist_info = sp.artist(artist_uri)\n",
    "    \n",
    "    #Name, popularity, genre\n",
    "    this_track['artist_name'] = track[\"track\"][\"artists\"][0][\"name\"]\n",
    "    this_track['artist_pop'] = artist_info[\"popularity\"]\n",
    "    this_track['artist_genres'] = artist_info[\"genres\"]\n",
    "    \n",
    "    #Album\n",
    "    this_track['album'] = track[\"track\"][\"album\"][\"name\"]\n",
    "    \n",
    "    #Track Metadata\n",
    "    this_track['track_pop'] = track[\"track\"][\"popularity\"]\n",
    "    this_track['explicit'] = track[\"track\"]['explicit']\n",
    "    \n",
    "    # Audio Features\n",
    "    this_track = extract_audio_feat(track_uri, this_track)\n",
    "    \n",
    "    \n",
    "# Convert to DataFrame\n",
    "    this_track_df = pd.json_normalize(this_track)\n",
    "    \n",
    "    tracks_df = pd.concat([tracks_df,this_track_df], ignore_index=True)\n",
    "    \n",
    "    # Make sure there are no duplicates\n",
    "    tracks_df = tracks_df.drop_duplicates('track_uri')\n",
    "    \n",
    "tracks_df.head()"
   ]
  },
  {
   "cell_type": "code",
   "execution_count": null,
   "id": "fb70e451-ca42-4e42-b106-7f0bba2d8752",
   "metadata": {},
   "outputs": [],
   "source": [
    "tracks_df.loc[tracks_df.explicit==True]"
   ]
  },
  {
   "cell_type": "code",
   "execution_count": null,
   "id": "e597e1f2-63a6-4f42-ac2f-f7fee93f8d58",
   "metadata": {},
   "outputs": [],
   "source": [
    "genres_df = pd.DataFrame(\n",
    "        pd.DataFrame(tracks_df.artist_genres.tolist())[0].tolist(), index=tracks_df.track_name\n",
    ")\n",
    "genres_df.columns=['genre']\n",
    "genres_df.reset_index(inplace=True)\n",
    "genres_df.head()"
   ]
  },
  {
   "cell_type": "code",
   "execution_count": null,
   "id": "4b858320-6c7b-4fe1-860b-cb2f983b17ff",
   "metadata": {},
   "outputs": [],
   "source": [
    "genres_df.genre.value_counts().plot(kind='bar', rot=45)"
   ]
  },
  {
   "cell_type": "code",
   "execution_count": null,
   "id": "1185cb95-4999-4d8d-ac0f-ead9f3b9a15d",
   "metadata": {},
   "outputs": [],
   "source": [
    "tracks_df.artist_name.value_counts()"
   ]
  },
  {
   "cell_type": "markdown",
   "id": "11f62c41-5c7a-4f53-80c1-8a6988fe89ec",
   "metadata": {},
   "source": [
    "## Audio Features"
   ]
  },
  {
   "cell_type": "code",
   "execution_count": null,
   "id": "47ea3b54-8934-4c70-aaae-db9f0eb34708",
   "metadata": {},
   "outputs": [],
   "source": [
    "tracks_df.iloc[0]"
   ]
  },
  {
   "cell_type": "code",
   "execution_count": null,
   "id": "1ef1ea5a-d35b-4e7c-89bb-ff19ab2d2158",
   "metadata": {},
   "outputs": [],
   "source": [
    "track_uri = tracks_df.iloc[1]['track_uri']\n",
    "audio_feat = sp.audio_features(track_uri)\n",
    "audio_feat"
   ]
  },
  {
   "cell_type": "code",
   "execution_count": null,
   "id": "790ec36f-fbfb-4e44-8a4c-636544709e64",
   "metadata": {},
   "outputs": [],
   "source": [
    "audio_feat[0]['danceability']"
   ]
  },
  {
   "cell_type": "code",
   "execution_count": null,
   "id": "e47243ef-d3e3-4d10-b39b-55ba44478c5a",
   "metadata": {},
   "outputs": [],
   "source": [
    "# sp.audio_analysis(track_uri)"
   ]
  },
  {
   "cell_type": "code",
   "execution_count": null,
   "id": "319cb261-51db-47a2-a21b-8f63245c0093",
   "metadata": {},
   "outputs": [],
   "source": [
    "tracks_df.describe()"
   ]
  },
  {
   "cell_type": "markdown",
   "id": "a2b2a308-7aac-46f3-a975-45cd6c734461",
   "metadata": {},
   "source": [
    "## Features\n",
    "\n",
    "### Meta Data"
   ]
  },
  {
   "cell_type": "code",
   "execution_count": null,
   "id": "fe1d9d6a-12ec-4f85-b909-f7c83b01a9dc",
   "metadata": {},
   "outputs": [],
   "source": [
    "def ohe_prep(df, column, new_name): \n",
    "    ''' \n",
    "    Create One Hot Encoded features of a specific column\n",
    "    ---\n",
    "    Input: \n",
    "    df (pandas dataframe): Spotify Dataframe\n",
    "    column (str): Column to be processed\n",
    "    new_name (str): new column name to be used\n",
    "        \n",
    "    Output: \n",
    "    tf_df: One-hot encoded features \n",
    "    '''\n",
    "    \n",
    "    tf_df = pd.get_dummies(df[column])\n",
    "    feature_names = tf_df.columns\n",
    "    tf_df.columns = [new_name + \"|\" + str(i) for i in feature_names]\n",
    "    tf_df.reset_index(drop = True, inplace = True)    \n",
    "    return tf_df\n",
    "\n"
   ]
  },
  {
   "cell_type": "code",
   "execution_count": null,
   "id": "92ee6d8e-e686-42a3-b9a4-fb9f35ddf146",
   "metadata": {},
   "outputs": [],
   "source": [
    "# TF-IDF implementation\n",
    "tfidf = TfidfVectorizer()\n",
    "tfidf_matrix =  tfidf.fit_transform(tracks_df['artist_genres'].apply(lambda x: \" \".join(x)))\n",
    "genre_df = pd.DataFrame(tfidf_matrix.toarray())\n",
    "genre_df.columns = ['genre' + \"|\" + i for i in tfidf.get_feature_names()]\n",
    "# genre_df.drop(columns='genre|unknown') # Drop unknown genre\n",
    "genre_df.reset_index(drop = True, inplace=True)\n",
    "genre_df.iloc[0]"
   ]
  },
  {
   "cell_type": "code",
   "execution_count": null,
   "id": "17ad5f09-9a20-462f-a06f-8ef40b1a63e6",
   "metadata": {},
   "outputs": [],
   "source": [
    "list(genre_df.columns)"
   ]
  },
  {
   "cell_type": "code",
   "execution_count": null,
   "id": "ec792bfe-6e7e-46da-9ae5-f8ceb43873e9",
   "metadata": {},
   "outputs": [],
   "source": [
    "# normalize popularity\n",
    "tracks_df['artist_pop'] = tracks_df['artist_pop']/100\n",
    "tracks_df['track_pop'] = tracks_df['track_pop']/100\n"
   ]
  },
  {
   "cell_type": "code",
   "execution_count": null,
   "id": "bda15d96-9470-4d98-8ece-dfcd106d23df",
   "metadata": {},
   "outputs": [],
   "source": []
  }
 ],
 "metadata": {
  "kernelspec": {
   "display_name": "Python 3 (ipykernel)",
   "language": "python",
   "name": "python3"
  },
  "language_info": {
   "codemirror_mode": {
    "name": "ipython",
    "version": 3
   },
   "file_extension": ".py",
   "mimetype": "text/x-python",
   "name": "python",
   "nbconvert_exporter": "python",
   "pygments_lexer": "ipython3",
   "version": "3.8.8"
  }
 },
 "nbformat": 4,
 "nbformat_minor": 5
}
